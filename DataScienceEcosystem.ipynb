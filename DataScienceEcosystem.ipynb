{
 "cells": [
  {
   "cell_type": "markdown",
   "id": "80617307-2cd8-405b-b84e-f47e33856128",
   "metadata": {},
   "source": [
    "# H1 Data Science Tools and Ecosystem "
   ]
  },
  {
   "cell_type": "markdown",
   "id": "cc67decc-1acd-4e2a-ba5b-20e146c897f7",
   "metadata": {},
   "source": [
    "# In this notebook, Data Science Tools and Ecosystem are summarized."
   ]
  },
  {
   "cell_type": "markdown",
   "id": "151f8a2d-5cfb-4263-9e84-e0a01083acfa",
   "metadata": {},
   "source": [
    "# ** Bold Objectives:** \n",
    "    -Python\n",
    "    -SQL\n",
    "    -Julia\n",
    "    -R"
   ]
  },
  {
   "cell_type": "markdown",
   "id": "cb4d0ba2-d254-43eb-a36e-824960945cdb",
   "metadata": {},
   "source": [
    "# Some of the popular languages that Data Scientists use are:\n",
    "\n",
    "1. Python\n",
    "2. R\n",
    "3. SQL\n",
    "4. Julia"
   ]
  },
  {
   "cell_type": "markdown",
   "id": "4c85862a-2717-4347-8e41-a54c8910f12d",
   "metadata": {},
   "source": [
    "# Some of the commonly used libraries used by Data Scientists include:\n",
    "\n",
    "1.PyTorch\n",
    "2.Pandas\n",
    "3.Keras\n",
    "4.Matplotlib"
   ]
  },
  {
   "cell_type": "markdown",
   "id": "956b26a5-a113-4a12-bd2b-245b6ed90629",
   "metadata": {},
   "source": [
    "# |Data Science Tools|\n",
    "| ------ |\n",
    "| Jupyter Notebook  |\n",
    "|Visual Studio Code | \n",
    "| RStudio |"
   ]
  },
  {
   "cell_type": "markdown",
   "id": "16692128-3ae5-47ee-a304-5179b64d824c",
   "metadata": {
    "tags": []
   },
   "source": [
    "### H3 Below are a few examples of evaluating arithmetic expressions in Python"
   ]
  },
  {
   "cell_type": "code",
   "execution_count": 3,
   "id": "78427ac8-e0a2-4055-9638-61075b3d5862",
   "metadata": {
    "tags": []
   },
   "outputs": [
    {
     "data": {
      "text/plain": [
       "17"
      ]
     },
     "execution_count": 3,
     "metadata": {},
     "output_type": "execute_result"
    }
   ],
   "source": [
    "# This a simple arithmetic expression to mutiply then add integers\n",
    "(3*4)+5\n"
   ]
  },
  {
   "cell_type": "code",
   "execution_count": 2,
   "id": "4fa9a590-0b96-4b4c-8b11-d89a1e2217a6",
   "metadata": {
    "tags": []
   },
   "outputs": [
    {
     "data": {
      "text/plain": [
       "3.3333333333333335"
      ]
     },
     "execution_count": 2,
     "metadata": {},
     "output_type": "execute_result"
    }
   ],
   "source": [
    "# This will convert 200 minutes to hours by diving by 60\n",
    "200/60\n"
   ]
  },
  {
   "cell_type": "markdown",
   "id": "1d9f63e5-18c1-46f3-b588-d6852d4d0dcd",
   "metadata": {},
   "source": [
    "## H2 Author\n",
    "YU Lin"
   ]
  }
 ],
 "metadata": {
  "kernelspec": {
   "display_name": "Python 3.12.2 64-bit",
   "language": "python",
   "name": "python3"
  },
  "language_info": {
   "codemirror_mode": {
    "name": "ipython",
    "version": 3
   },
   "file_extension": ".py",
   "mimetype": "text/x-python",
   "name": "python",
   "nbconvert_exporter": "python",
   "pygments_lexer": "ipython3",
   "version": "3.12.2"
  },
  "vscode": {
   "interpreter": {
    "hash": "aee8b7b246df8f9039afb4144a1f6fd8d2ca17a180786b69acc140d282b71a49"
   }
  }
 },
 "nbformat": 4,
 "nbformat_minor": 5
}
